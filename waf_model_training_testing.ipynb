{
 "cells": [
  {
   "cell_type": "code",
   "execution_count": 1,
   "id": "ab4279f3-5427-42a5-8a8f-3304032a07ed",
   "metadata": {},
   "outputs": [],
   "source": [
    "from sklearn.linear_model import LogisticRegression\n",
    "import pandas as pd\n",
    "import numpy as np"
   ]
  },
  {
   "cell_type": "code",
   "execution_count": 2,
   "id": "9deffb78-c523-4b6e-96fb-936012d45d62",
   "metadata": {},
   "outputs": [],
   "source": [
    "df_clean = pd.read_csv('dataset_clean_sql_injection.csv')\n",
    "df_sql = pd.read_csv('with_sql_injection_dataset.csv')\n",
    "df_combined = pd.concat([df_clean,df_sql], ignore_index=False)"
   ]
  },
  {
   "cell_type": "code",
   "execution_count": 3,
   "id": "619111c1-e4fb-4d31-91c5-69a92e9a0e48",
   "metadata": {},
   "outputs": [],
   "source": [
    "df = df_combined.sample(frac=1, random_state=42).reset_index(drop=True)\n",
    "df['is_sql_injection'] = df['is_sql_injection'].astype(int)\n",
    "df['method'] = pd.Categorical(df['method']).codes"
   ]
  },
  {
   "cell_type": "code",
   "execution_count": 4,
   "id": "824e27d2-f966-49cd-ae84-965e54262a69",
   "metadata": {},
   "outputs": [
    {
     "data": {
      "text/html": [
       "<div>\n",
       "<style scoped>\n",
       "    .dataframe tbody tr th:only-of-type {\n",
       "        vertical-align: middle;\n",
       "    }\n",
       "\n",
       "    .dataframe tbody tr th {\n",
       "        vertical-align: top;\n",
       "    }\n",
       "\n",
       "    .dataframe thead th {\n",
       "        text-align: right;\n",
       "    }\n",
       "</style>\n",
       "<table border=\"1\" class=\"dataframe\">\n",
       "  <thead>\n",
       "    <tr style=\"text-align: right;\">\n",
       "      <th></th>\n",
       "      <th>method</th>\n",
       "      <th>entropy</th>\n",
       "      <th>packet_length</th>\n",
       "      <th>sqli_keywords</th>\n",
       "      <th>number_of_special_chars</th>\n",
       "      <th>url_length</th>\n",
       "      <th>query_param_count</th>\n",
       "      <th>query_param_length</th>\n",
       "      <th>path_depth</th>\n",
       "      <th>is_sql_injection</th>\n",
       "    </tr>\n",
       "  </thead>\n",
       "  <tbody>\n",
       "    <tr>\n",
       "      <th>0</th>\n",
       "      <td>1</td>\n",
       "      <td>4.061977</td>\n",
       "      <td>0</td>\n",
       "      <td>5</td>\n",
       "      <td>7</td>\n",
       "      <td>36</td>\n",
       "      <td>0</td>\n",
       "      <td>0</td>\n",
       "      <td>1</td>\n",
       "      <td>1</td>\n",
       "    </tr>\n",
       "    <tr>\n",
       "      <th>1</th>\n",
       "      <td>0</td>\n",
       "      <td>2.000000</td>\n",
       "      <td>0</td>\n",
       "      <td>0</td>\n",
       "      <td>1</td>\n",
       "      <td>4</td>\n",
       "      <td>0</td>\n",
       "      <td>0</td>\n",
       "      <td>1</td>\n",
       "      <td>0</td>\n",
       "    </tr>\n",
       "    <tr>\n",
       "      <th>2</th>\n",
       "      <td>1</td>\n",
       "      <td>4.564986</td>\n",
       "      <td>0</td>\n",
       "      <td>5</td>\n",
       "      <td>7</td>\n",
       "      <td>39</td>\n",
       "      <td>0</td>\n",
       "      <td>0</td>\n",
       "      <td>1</td>\n",
       "      <td>1</td>\n",
       "    </tr>\n",
       "    <tr>\n",
       "      <th>3</th>\n",
       "      <td>1</td>\n",
       "      <td>4.081495</td>\n",
       "      <td>0</td>\n",
       "      <td>7</td>\n",
       "      <td>9</td>\n",
       "      <td>39</td>\n",
       "      <td>0</td>\n",
       "      <td>0</td>\n",
       "      <td>1</td>\n",
       "      <td>1</td>\n",
       "    </tr>\n",
       "    <tr>\n",
       "      <th>4</th>\n",
       "      <td>1</td>\n",
       "      <td>3.838040</td>\n",
       "      <td>0</td>\n",
       "      <td>0</td>\n",
       "      <td>3</td>\n",
       "      <td>48</td>\n",
       "      <td>1</td>\n",
       "      <td>10</td>\n",
       "      <td>1</td>\n",
       "      <td>0</td>\n",
       "    </tr>\n",
       "  </tbody>\n",
       "</table>\n",
       "</div>"
      ],
      "text/plain": [
       "   method   entropy  packet_length  sqli_keywords  number_of_special_chars  \\\n",
       "0       1  4.061977              0              5                        7   \n",
       "1       0  2.000000              0              0                        1   \n",
       "2       1  4.564986              0              5                        7   \n",
       "3       1  4.081495              0              7                        9   \n",
       "4       1  3.838040              0              0                        3   \n",
       "\n",
       "   url_length  query_param_count  query_param_length  path_depth  \\\n",
       "0          36                  0                   0           1   \n",
       "1           4                  0                   0           1   \n",
       "2          39                  0                   0           1   \n",
       "3          39                  0                   0           1   \n",
       "4          48                  1                  10           1   \n",
       "\n",
       "   is_sql_injection  \n",
       "0                 1  \n",
       "1                 0  \n",
       "2                 1  \n",
       "3                 1  \n",
       "4                 0  "
      ]
     },
     "execution_count": 4,
     "metadata": {},
     "output_type": "execute_result"
    }
   ],
   "source": [
    "df.head()"
   ]
  },
  {
   "cell_type": "code",
   "execution_count": 6,
   "id": "ea00e418-94f7-4741-ab23-453f402b6d97",
   "metadata": {},
   "outputs": [
    {
     "name": "stdout",
     "output_type": "stream",
     "text": [
      "Training set size: (716, 9)\n",
      "Testing set size: (180, 9)\n"
     ]
    }
   ],
   "source": [
    "from sklearn.model_selection import train_test_split\n",
    "\n",
    "X = df.drop(columns=['is_sql_injection'])\n",
    "y = df['is_sql_injection']\n",
    "\n",
    "X_train, X_test, y_train, y_test = train_test_split(X, y, test_size=0.2, random_state=42)\n",
    "\n",
    "print(\"Training set size:\", X_train.shape)\n",
    "print(\"Testing set size:\", X_test.shape)"
   ]
  },
  {
   "cell_type": "code",
   "execution_count": 7,
   "id": "38125a62-cff7-4c0b-8e6d-b780232b43ed",
   "metadata": {},
   "outputs": [
    {
     "name": "stdout",
     "output_type": "stream",
     "text": [
      "Accuracy: 0.9944444444444445\n",
      "\n",
      "Classification Report:\n",
      "               precision    recall  f1-score   support\n",
      "\n",
      "           0       1.00      0.99      0.99        91\n",
      "           1       0.99      1.00      0.99        89\n",
      "\n",
      "    accuracy                           0.99       180\n",
      "   macro avg       0.99      0.99      0.99       180\n",
      "weighted avg       0.99      0.99      0.99       180\n",
      "\n",
      "\n",
      "Confusion Matrix:\n",
      " [[90  1]\n",
      " [ 0 89]]\n"
     ]
    }
   ],
   "source": [
    "from sklearn.metrics import accuracy_score, classification_report, confusion_matrix\n",
    "\n",
    "model = LogisticRegression()\n",
    "model.fit(X_train, y_train)\n",
    "\n",
    "y_pred = model.predict(X_test)\n",
    "\n",
    "\n",
    "print(\"Accuracy:\", accuracy_score(y_test, y_pred))\n",
    "print(\"\\nClassification Report:\\n\", classification_report(y_test, y_pred))\n",
    "print(\"\\nConfusion Matrix:\\n\", confusion_matrix(y_test, y_pred))"
   ]
  },
  {
   "cell_type": "markdown",
   "id": "aa1104a1-17c9-4a09-b57e-3abba13471da",
   "metadata": {},
   "source": [
    "## Pre-process data"
   ]
  },
  {
   "cell_type": "code",
   "execution_count": 67,
   "id": "61e79d1c-9bee-4f6c-a944-dea3b46ece30",
   "metadata": {},
   "outputs": [],
   "source": [
    "from collections import Counter\n",
    "import math\n",
    "from urllib.parse import urlparse, parse_qs\n",
    "from urllib.parse import unquote\n",
    "\n",
    "def calculate_entropy(text: str) -> float:\n",
    "    if not isinstance(text, str) or not text.strip():\n",
    "        return 0.0\n",
    "    \n",
    "    freq = Counter(text)\n",
    "    total_length = len(text)\n",
    "\n",
    "    entropy = sum(\n",
    "        (-count / total_length) * math.log2(count / total_length) \n",
    "        for count in freq.values()\n",
    "    )\n",
    "    \n",
    "    return entropy"
   ]
  },
  {
   "cell_type": "code",
   "execution_count": 111,
   "id": "408c441f-e8b9-4fac-829d-130d4b5611ea",
   "metadata": {},
   "outputs": [],
   "source": [
    "def packet_length(packet_length: str) -> int:\n",
    "    if not isinstance(packet_length, str) or not packet_length.strip():\n",
    "        return 0\n",
    "    body = unquote(packet_length)\n",
    "    return len(body)"
   ]
  },
  {
   "cell_type": "code",
   "execution_count": 156,
   "id": "878000ae-f1f1-4273-9cfc-389998fd8a00",
   "metadata": {},
   "outputs": [],
   "source": [
    "import re\n",
    "\n",
    "sql_injection_patterns = [\n",
    "    r\"\\bSELECT\\b\", r\"\\bINSERT\\b\", r\"\\bUPDATE\\b\", r\"\\bDELETE\\b\", r\"\\bDROP\\b\", r\"\\bUNION\\b\", r\"\\bJOIN\\b\",\n",
    "    r\"\\bWHERE\\b\", r\"\\bORDER\\s+BY\\b\", r\"\\bGROUP\\s+BY\\b\", r\"\\bHAVING\\b\", r\"\\bEXEC\\b\", r\"\\bDECLARE\\b\",\n",
    "    r\"\\bCASE\\b\", r\"\\bWHEN\\b\", r\"\\bTHEN\\b\", r\"\\bEND\\b\", r\"\\bIF\\b\", r\"\\bELSE\\b\", r\"\\bCAST\\b\", r\"\\bCONVERT\\b\",\n",
    "    r\"\\bTRUNCATE\\b\", r\"\\bALTER\\b\", r\"\\bCREATE\\b\", r\"\\bREPLACE\\b\", r\"\\bRENAME\\b\", r\"\\bGRANT\\b\", r\"\\bREVOKE\\b\",\n",
    "    r\"\\bMERGE\\b\", r\"\\bINTERSECT\\b\", r\"\\bEXCEPT\\b\", r\"\\bEXECUTE\\b\", r\"\\bFETCH\\b\", r\"\\bOPEN\\b\", r\"\\bCLOSE\\b\",\n",
    "    r\"\\bDEALLOCATE\\b\", r\"\\bUSE\\b\", r\"\\bLIMIT\\b\", r\"\\bOFFSET\\b\", r\"\\bISNULL\\b\", r\"\\bCOALESCE\\b\",\n",
    "    r\"\\bXP_CMDSHELL\\b\", r\"\\bWAITFOR\\s+DELAY\\b\", r\"\\bBENCHMARK\\b\", r\"\\bCHAR\\b\", r\"\\bASCII\\b\", r\"\\bHEX\\b\",\n",
    "    r\"\\bCONCAT\\b\", r\"\\bSUBSTRING\\b\", r\"\\bMID\\b\", r\"\\bIFNULL\\b\", r\"\\bLOAD_FILE\\b\", r\"\\bOUTFILE\\b\",\n",
    "    r\"\\bINTO\\b\", r\"\\bDUMPFILE\\b\", r\"\\bFLOOR\\b\", r\"\\bRAND\\b\", r\"\\bMD5\\b\", r\"\\bSHA1\\b\",\n",
    "    r\"\\bCURRENT_USER\\b\", r\"\\bSESSION_USER\\b\", r\"\\bSYSTEM_USER\\b\", r\"\\bUSER\\b\", r\"\\bVERSION\\b\",\n",
    "    r\"\\bFOUND_ROWS\\b\", r\"\\bROW_COUNT\\b\", r\"\\bDATABASE\\(\\)\\b\", r\"\\bSCHEMA\\(\\)\\b\", r\"\\bTABLE_NAME\\b\",\n",
    "    r\"\\bCOLUMN_NAME\\b\", r\"\\bCURRENT_TIMESTAMP\\b\", r\"\\bCURRENT_DATE\\b\", r\"\\bCURRENT_TIME\\b\",\n",
    "    r\"\\bSESSION_ID\\b\", r\"\\bWAITFOR\\s+TIME\\b\", r\"\\bEXEC\\s+sp_executesql\\b\", r\"\\bEXEC\\s+sp_sqlexec\\b\",\n",
    "    r\"\\bSYSOBJECTS\\b\", r\"\\bSYSCOLUMNS\\b\", r\"\\bPG_SLEEP\\b\", r\"\\bEXTRACTVALUE\\b\", r\"\\bUPDATEXML\\b\",\n",
    "    r\"\\bLTRIM\\b\", r\"\\bRTRIM\\b\", r\"\\bUPPER\\b\", r\"\\bLOWER\\b\", r\"\\bSYSADMIN\\b\", r\"\\bEXEC\\s+MASTER\\.DBO\\.XP_CMDSHELL\\b\",\n",
    "    r\"\\bINFORMATION_SCHEMA\\.TABLES\\b\", r\"\\bINFORMATION_SCHEMA\\.COLUMNS\\b\",\n",
    "    r\"--\", r\";\", r\"'\", r\"\\\"\", r\"/\\*\", r\"\\*/\", r\"\\(\", r\"\\)\", r\"\\{\", r\"\\}\", r\"\\[\", r\"\\]\", r\"<\", r\">\",\n",
    "    r\"\\|\\|\", r\"\\|\", r\"\\^\", r\"\\\\\", r\"\\@\", r\"\\#\", r\"\\%\", r\"\\!\", r\"\\$\", r\"\\+\", r\"-\", r\"/\", r\"\\*\",\n",
    "    r\"\\bOR\\b\", r\"\\bAND\\b\", r\"\\bLIKE\\b\", r\"\\bSLEEP\\b\", r\"\\bREGEXP\\b\", r\"\\bRLIKE\\b\",\n",
    "    r\"ORDER\\s+BY\\s+1--\", r\"UNION\\s+SELECT\", r\"DROP\\s+TABLE\", r\"ALTER\\s+TABLE\", r\"INTO\\s+OUTFILE\",\n",
    "    r\"\\b\\d+\\s*(=|!=|<|>|<=|>=)\\s*\\d+\\b\",\n",
    "    r\"\\b\\d+\\s*[\\+\\-\\*/%]\\s*\\d+\\b\",\n",
    "    r\"(\\|\\|)\", r\"\\bCONCAT\\s*\\(\", r\"\\bCHAR\\s*\\(\", r\"\\bASCII\\s*\\(\", r\"\\bUNHEX\\s*\\(\",\n",
    "    r\"\\b0x[0-9A-Fa-f]+\\b\",\n",
    "    r\"\\b\\d+\\s*(&|\\||\\^)\\s*\\d+\\b\",\n",
    "    r\"--\", r\"#\", r\"/\\*\", r\"\\*/\",\n",
    "    r\"\\)\\s*AND\\s*\\(\",\n",
    "    r\"\\bAND\\b.*&.*\\b\",\n",
    "    r\"::\", r\"\\@\\@\", r\"\\bAS\\s+\\w+\",\n",
    "    r\"-\\d+'?\",\n",
    "    r\"^-?\\d+'?\",\n",
    "]\n",
    "\n",
    "sql_injection_regex = re.compile(\"|\".join(sql_injection_patterns), re.IGNORECASE)\n",
    "\n",
    "def count_sql_keywords(body: str) -> int:\n",
    "    if not body:\n",
    "        return 0\n",
    "\n",
    "    matches = sql_injection_regex.findall(body)\n",
    "    return len(matches)"
   ]
  },
  {
   "cell_type": "code",
   "execution_count": 157,
   "id": "2287aa87-b0e6-4670-9212-d5fd25634c31",
   "metadata": {},
   "outputs": [],
   "source": [
    "def number_of_special_chars(request: str) -> int:\n",
    "    if not isinstance(request, str) or not request.strip():\n",
    "        return 0\n",
    "    special_chars_pattern = r\"[!@#$%^&*()_+\\-=\\[\\]{};:'\\\"\\\\|,.<>?/`~]\"\n",
    "    special_chars = re.findall(special_chars_pattern, request)    \n",
    "    return len(special_chars)"
   ]
  },
  {
   "cell_type": "code",
   "execution_count": 158,
   "id": "cbd42035-6cf0-44cf-96b9-95aa96860236",
   "metadata": {},
   "outputs": [],
   "source": [
    "from typing import Union, Dict\n",
    "\n",
    "def url_length(request: Union[Dict, str]) -> int:\n",
    "    if isinstance(request, str):\n",
    "        return len(request)\n",
    "    elif isinstance(request, dict):\n",
    "        url = request.get('url', '')\n",
    "        return len(url)\n",
    "    else:\n",
    "        return 0"
   ]
  },
  {
   "cell_type": "code",
   "execution_count": 159,
   "id": "a77dd596-5334-4ada-9d16-952fd758f3c1",
   "metadata": {},
   "outputs": [],
   "source": [
    "def process_row(row):\n",
    "    if row['method'] == 'GET':\n",
    "        if pd.isna(row['url']):\n",
    "            row['url'] = None\n",
    "    else:\n",
    "        if pd.isna(row['body']):\n",
    "            row['body'] = None\n",
    "    return row"
   ]
  },
  {
   "cell_type": "code",
   "execution_count": 160,
   "id": "13a37ba1-338b-477b-915d-16d5f3d9f148",
   "metadata": {},
   "outputs": [],
   "source": [
    "def count_query_params(url: str) -> int:\n",
    "    parsed_url = urlparse(url)\n",
    "    query_params = parse_qs(parsed_url.query)\n",
    "    return len(query_params)"
   ]
  },
  {
   "cell_type": "code",
   "execution_count": 161,
   "id": "3f003305-623b-4af1-a67c-138a6d4337eb",
   "metadata": {},
   "outputs": [],
   "source": [
    "def calculate_query_param_length(url: str) -> int:\n",
    "    parsed_url = urlparse(url)\n",
    "    query_string = parsed_url.query\n",
    "    return len(query_string)"
   ]
  },
  {
   "cell_type": "code",
   "execution_count": 162,
   "id": "992f7163-41e7-48c8-b4b5-09266eca5dbf",
   "metadata": {},
   "outputs": [],
   "source": [
    "def calculate_path_depth(url: str) -> int:\n",
    "    parsed_url = urlparse(url)\n",
    "    path_segments = parsed_url.path.strip(\"/\").split(\"/\")\n",
    "    return len(path_segments)"
   ]
  },
  {
   "cell_type": "code",
   "execution_count": 194,
   "id": "4fc086bd-91d7-4301-8bac-ff155c719863",
   "metadata": {},
   "outputs": [],
   "source": [
    "request_test = {\n",
    "    \"request\": {\n",
    "        \"url\": \"http://testphp.vulnweb.com/login.php\",\n",
    "        \"method\": \"POST\",\n",
    "        \"headers\": {\n",
    "            \"Content-Length\": \"77\",\n",
    "            \"Host\": \"testphp.vulnweb.com\",\n",
    "            \"Cache-Control\": \"max-age=0\",\n",
    "            \"Origin\": \"http://testphp.vulnweb.com\",\n",
    "            \"Content-Type\": \"application/x-www-form-urlencoded\",\n",
    "            \"Upgrade-Insecure-Requests\": \"1\",\n",
    "            \"User-Agent\": \"Mozilla/5.0 (X11; Linux x86_64) AppleWebKit/537.36 (KHTML, like Gecko) Chrome/134.0.0.0 Safari/537.36\",\n",
    "            \"Accept\": \"text/html,application/xhtml+xml,application/xml;q=0.9,image/avif,image/webp,image/apng,*/*;q=0.8\",\n",
    "            \"Sec-GPC\": \"1\",\n",
    "            \"Accept-Language\": \"en-US,en;q=0.5\",\n",
    "            \"Referer\": \"http://testphp.vulnweb.com/login.php\",\n",
    "            \"Accept-Encoding\": \"gzip, deflate, br\",\n",
    "            \"Connection\": \"close\"\n",
    "        },\n",
    "        \"body\": \"uname=admin' UNION/*+*/SELECT/**/1,0x73656C656374,3--&pass=123\"\n",
    "    }\n",
    "}"
   ]
  },
  {
   "cell_type": "code",
   "execution_count": 195,
   "id": "4c9140a6-03e7-45e0-85fd-d1d59898f8a5",
   "metadata": {},
   "outputs": [],
   "source": [
    "url = request_test[\"request\"][\"url\"]\n",
    "method = request_test[\"request\"][\"method\"]\n",
    "headers = request_test[\"request\"][\"headers\"]\n",
    "body = request_test[\"request\"][\"body\"]\n",
    "\n",
    "features = {\n",
    "    \"method\": 0 if method == \"GET\" else 1,\n",
    "    \"entropy\": calculate_entropy(body) if method == \"POST\" else calculate_entropy(url),\n",
    "    \"packet_length\": packet_length(body),\n",
    "    \"sqli_keywords\": count_sql_keywords(body) if method == \"POST\" else count_sql_keywords(url),\n",
    "    \"number_of_special_chars\": number_of_special_chars(body) if method == \"POST\" else number_of_special_chars(url),\n",
    "    \"url_length\": url_length(url),\n",
    "    \"query_param_count\": count_query_params(url),\n",
    "    \"query_param_length\": calculate_query_param_length(url),\n",
    "    \"path_depth\": calculate_path_depth(url),\n",
    "}\n",
    "features_df = pd.DataFrame([features])"
   ]
  },
  {
   "cell_type": "code",
   "execution_count": 196,
   "id": "bb61579e-fcb0-4e93-8810-4528e6ad0196",
   "metadata": {},
   "outputs": [
    {
     "name": "stdout",
     "output_type": "stream",
     "text": [
      "Prediction: SQL Injection\n"
     ]
    }
   ],
   "source": [
    "prediction = model.predict(features_df)\n",
    "label = \"SQL Injection\" if prediction[0] == 1 else \"Legitimate\"\n",
    "\n",
    "print(f\"Prediction: {label}\")"
   ]
  },
  {
   "cell_type": "code",
   "execution_count": null,
   "id": "48802fc5-be3b-4025-a7b7-8893f563a909",
   "metadata": {},
   "outputs": [],
   "source": []
  }
 ],
 "metadata": {
  "kernelspec": {
   "display_name": "Python 3 (ipykernel)",
   "language": "python",
   "name": "python3"
  },
  "language_info": {
   "codemirror_mode": {
    "name": "ipython",
    "version": 3
   },
   "file_extension": ".py",
   "mimetype": "text/x-python",
   "name": "python",
   "nbconvert_exporter": "python",
   "pygments_lexer": "ipython3",
   "version": "3.12.8"
  }
 },
 "nbformat": 4,
 "nbformat_minor": 5
}
