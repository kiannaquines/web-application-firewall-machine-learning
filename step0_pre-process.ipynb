{
 "cells": [
  {
   "cell_type": "code",
   "execution_count": 31,
   "id": "a3c5e15d-5557-4e19-bb30-8ec273a5e711",
   "metadata": {},
   "outputs": [],
   "source": [
    "import pandas as pd\n",
    "import json"
   ]
  },
  {
   "cell_type": "code",
   "execution_count": 49,
   "id": "57b87cb5-1c67-4122-a304-53ff9073c087",
   "metadata": {},
   "outputs": [],
   "source": [
    "df = pd.read_csv('./datasets/sqli_dataset.csv')"
   ]
  },
  {
   "cell_type": "code",
   "execution_count": 50,
   "id": "5d72c469-0b60-4ce0-97e6-04b93dfb946d",
   "metadata": {},
   "outputs": [],
   "source": [
    "df['pattern'] = df['pattern'].str.lower()"
   ]
  },
  {
   "cell_type": "code",
   "execution_count": 51,
   "id": "c9d7f863-7093-4adf-b438-16ae6d47ae8e",
   "metadata": {},
   "outputs": [],
   "source": [
    "df.to_json('./datasets/clean_sqli.json',orient=\"records\")"
   ]
  },
  {
   "cell_type": "code",
   "execution_count": 52,
   "id": "0c640d05-55d3-4719-89f2-06611fee678a",
   "metadata": {},
   "outputs": [],
   "source": [
    "with open(\"./datasets/clean_sqli.json\", \"r\") as f:\n",
    "    sqli = json.load(f)"
   ]
  }
 ],
 "metadata": {
  "kernelspec": {
   "display_name": "Python 3 (ipykernel)",
   "language": "python",
   "name": "python3"
  },
  "language_info": {
   "codemirror_mode": {
    "name": "ipython",
    "version": 3
   },
   "file_extension": ".py",
   "mimetype": "text/x-python",
   "name": "python",
   "nbconvert_exporter": "python",
   "pygments_lexer": "ipython3",
   "version": "3.12.8"
  }
 },
 "nbformat": 4,
 "nbformat_minor": 5
}
