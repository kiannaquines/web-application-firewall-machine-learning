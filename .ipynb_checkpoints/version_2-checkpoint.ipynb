{
 "cells": [
  {
   "cell_type": "code",
   "execution_count": 1,
   "id": "2660e760-0a45-4b21-a102-4ba48eea75d0",
   "metadata": {},
   "outputs": [],
   "source": [
    "import pandas as pd\n",
    "from sklearn.linear_model import LinearRegression\n",
    "from sklearn.ensemble import RandomForestClassifier\n",
    "import numpy as np\n",
    "import seaborn as sns\n",
    "import json\n",
    "import re\n",
    "import math\n",
    "from collections import Counter\n",
    "from urllib.parse import unquote\n",
    "from typing import Union, Dict\n",
    "from urllib.parse import urlparse, parse_qs"
   ]
  },
  {
   "cell_type": "markdown",
   "id": "6002c330-f02f-4c67-acf7-0bd698638551",
   "metadata": {},
   "source": [
    "## Data Loading"
   ]
  },
  {
   "cell_type": "code",
   "execution_count": 2,
   "id": "bf6fc559-bc73-4ce4-96b3-3d000e59eb1f",
   "metadata": {},
   "outputs": [],
   "source": [
    "with open('datasets/with_sql_injection_payload.json', 'r') as file:\n",
    "    data = json.load(file)"
   ]
  },
  {
   "cell_type": "markdown",
   "id": "3d19dc2d-ddd0-4e2e-b66b-16839bb90825",
   "metadata": {},
   "source": [
    "## Data Preprocessing"
   ]
  },
  {
   "cell_type": "code",
   "execution_count": 3,
   "id": "5ca23244-40da-41cc-bfda-ccb940faf73a",
   "metadata": {},
   "outputs": [],
   "source": [
    "parsed_requests = []\n",
    "\n",
    "for entry in data:\n",
    "    request = entry[\"request\"]\n",
    "    url = request.get(\"url\", \"\")\n",
    "    method = request.get(\"method\", \"\")\n",
    "    body = request.get(\"body\", \"\")\n",
    "        \n",
    "    headers = request.get(\"headers\", {})\n",
    "        \n",
    "    parsed_request = {\n",
    "        \"url\": url,\n",
    "        \"method\": method,\n",
    "        \"body\": body,\n",
    "        \"header\": json.dumps(headers)\n",
    "    }\n",
    "    parsed_requests.append(parsed_request)\n",
    "    \n",
    "df = pd.DataFrame(parsed_requests)"
   ]
  },
  {
   "cell_type": "code",
   "execution_count": 4,
   "id": "48566c34-32c9-4f44-87f7-9cbd4bb5ca90",
   "metadata": {},
   "outputs": [
    {
     "data": {
      "text/plain": [
       "0      {\"Content-Length\": \"51\", \"Host\": \"testphp.vuln...\n",
       "1      {\"Content-Length\": \"52\", \"Host\": \"testphp.vuln...\n",
       "2      {\"Content-Length\": \"83\", \"Host\": \"testphp.vuln...\n",
       "3      {\"Content-Length\": \"83\", \"Host\": \"testphp.vuln...\n",
       "4      {\"Content-Length\": \"77\", \"Host\": \"testphp.vuln...\n",
       "                             ...                        \n",
       "434    {\"Content-Length\": \"239\", \"Cookie\": \"login=qpv...\n",
       "435    {\"Content-Length\": \"253\", \"Cookie\": \"login=qpv...\n",
       "436    {\"Content-Length\": \"253\", \"Cookie\": \"login=qpv...\n",
       "437    {\"Content-Length\": \"236\", \"Cookie\": \"login=qpv...\n",
       "438    {\"Content-Length\": \"236\", \"Cookie\": \"login=qpv...\n",
       "Name: header, Length: 439, dtype: object"
      ]
     },
     "execution_count": 4,
     "metadata": {},
     "output_type": "execute_result"
    }
   ],
   "source": [
    "df['url'].apply(unquote)\n",
    "df['body'].apply(unquote)\n",
    "df['header'].apply(unquote)"
   ]
  },
  {
   "cell_type": "markdown",
   "id": "1d5abd0f-df65-4564-b032-72a0d57df43d",
   "metadata": {},
   "source": [
    "## Algorithms Methods"
   ]
  },
  {
   "cell_type": "code",
   "execution_count": 5,
   "id": "9b32b880-5b45-45cb-80d1-90a397f46c96",
   "metadata": {},
   "outputs": [],
   "source": [
    "from sklearn.feature_extraction.text import TfidfVectorizer\n",
    "from sklearn.preprocessing import OneHotEncoder"
   ]
  },
  {
   "cell_type": "code",
   "execution_count": 6,
   "id": "6a0bf27b-3d71-476a-91c9-8ef21ea23b48",
   "metadata": {},
   "outputs": [],
   "source": [
    "def calculate_entropy(text: str) -> float:\n",
    "    if not isinstance(text, str) or not text.strip():\n",
    "        return 0.0\n",
    "    \n",
    "    freq = Counter(text)\n",
    "    total_length = len(text)\n",
    "\n",
    "    entropy = sum(\n",
    "        (-count / total_length) * math.log2(count / total_length) \n",
    "        for count in freq.values()\n",
    "    )\n",
    "    \n",
    "    return entropy"
   ]
  },
  {
   "cell_type": "code",
   "execution_count": 7,
   "id": "7575725e-7cd4-491a-bff8-febf4e69c1d8",
   "metadata": {},
   "outputs": [],
   "source": [
    "def number_of_special_chars(request: str) -> int:\n",
    "    if not isinstance(request, str) or not request.strip():\n",
    "        return 0\n",
    "    special_chars_pattern = r\"[!@#$%^&*()_+\\-=\\[\\]{};:'\\\"\\\\|,.<>?/`~]\"\n",
    "    special_chars = re.findall(special_chars_pattern, request)    \n",
    "    return len(special_chars)"
   ]
  },
  {
   "cell_type": "code",
   "execution_count": 8,
   "id": "680b27b2-0c6f-47e4-94a8-e4f98875fa11",
   "metadata": {},
   "outputs": [],
   "source": [
    "def count_query_params(url: str) -> int:\n",
    "    parsed_url = urlparse(url)\n",
    "    query_params = parse_qs(parsed_url.query)\n",
    "    return len(query_params)"
   ]
  },
  {
   "cell_type": "code",
   "execution_count": 9,
   "id": "067d7e0f-a901-4600-9c6e-1996a2ff366b",
   "metadata": {},
   "outputs": [],
   "source": [
    "def calculate_query_param_length(url: str) -> int:\n",
    "    parsed_url = urlparse(url)\n",
    "    query_string = parsed_url.query\n",
    "    return len(query_string)"
   ]
  },
  {
   "cell_type": "code",
   "execution_count": 10,
   "id": "3581f645-492f-4688-857e-43a21c6e9b5a",
   "metadata": {},
   "outputs": [],
   "source": [
    "def calculate_path_depth(url: str) -> int:\n",
    "    parsed_url = urlparse(url)\n",
    "    path_segments = parsed_url.path.strip(\"/\").split(\"/\")\n",
    "    return len(path_segments)"
   ]
  },
  {
   "cell_type": "code",
   "execution_count": 11,
   "id": "54d730c0-7b74-438b-942b-af92ac0bf521",
   "metadata": {},
   "outputs": [],
   "source": [
    "sql_injection_patterns = [\n",
    "    r\"\\bSELECT\\b\", r\"\\bINSERT\\b\", r\"\\bUPDATE\\b\", r\"\\bDELETE\\b\", r\"\\bDROP\\b\", r\"\\bUNION\\b\", r\"\\bJOIN\\b\",\n",
    "    r\"\\bWHERE\\b\", r\"\\bORDER\\s+BY\\b\", r\"\\bGROUP\\s+BY\\b\", r\"\\bHAVING\\b\", r\"\\bEXEC\\b\", r\"\\bDECLARE\\b\",\n",
    "    r\"\\bCASE\\b\", r\"\\bWHEN\\b\", r\"\\bTHEN\\b\", r\"\\bEND\\b\", r\"\\bIF\\b\", r\"\\bELSE\\b\", r\"\\bCAST\\b\", r\"\\bCONVERT\\b\",\n",
    "    r\"\\bTABLE\\b\", r\"\\bCOLUMN\\b\", r\"\\bDATABASE\\b\", r\"\\bSCHEMA\\b\", r\"\\bINFORMATION_SCHEMA\\b\",\n",
    "    r\"\\bTRUNCATE\\b\", r\"\\bALTER\\b\", r\"\\bCREATE\\b\", r\"\\bREPLACE\\b\", r\"\\bRENAME\\b\", r\"\\bGRANT\\b\", r\"\\bREVOKE\\b\",\n",
    "    r\"\\bMERGE\\b\", r\"\\bINTERSECT\\b\", r\"\\bEXCEPT\\b\", r\"\\bEXECUTE\\b\", r\"\\bFETCH\\b\", r\"\\bOPEN\\b\", r\"\\bCLOSE\\b\",\n",
    "    r\"\\bDEALLOCATE\\b\", r\"\\bUSE\\b\", r\"\\bLIMIT\\b\", r\"\\bOFFSET\\b\", r\"\\bNULL\\b\", r\"\\bISNULL\\b\", r\"\\bCOALESCE\\b\",\n",
    "    r\"\\bXP_CMDSHELL\\b\", r\"\\bWAITFOR\\s+DELAY\\b\", r\"\\bBENCHMARK\\b\", r\"\\bCHAR\\b\", r\"\\bASCII\\b\", r\"\\bHEX\\b\",\n",
    "    r\"\\bCONCAT\\b\", r\"\\bSUBSTRING\\b\", r\"\\bMID\\b\", r\"\\bIFNULL\\b\", r\"\\bLOAD_FILE\\b\", r\"\\bOUTFILE\\b\",\n",
    "    r\"\\bINTO\\b\", r\"\\bDUMPFILE\\b\", r\"\\bFLOOR\\b\", r\"\\bRAND\\b\", r\"\\bMD5\\b\", r\"\\bSHA1\\b\", r\"\\bPASSWORD\\b\",\n",
    "    r\"\\bCURRENT_USER\\b\", r\"\\bSESSION_USER\\b\", r\"\\bSYSTEM_USER\\b\", r\"\\bUSER\\b\", r\"\\bVERSION\\b\",\n",
    "    r\"\\bFOUND_ROWS\\b\", r\"\\bROW_COUNT\\b\", r\"\\bDATABASE\\(\\)\\b\", r\"\\bSCHEMA\\(\\)\\b\", r\"\\bTABLE_NAME\\b\",\n",
    "    r\"\\bCOLUMN_NAME\\b\", r\"\\bCURRENT_TIMESTAMP\\b\", r\"\\bCURRENT_DATE\\b\", r\"\\bCURRENT_TIME\\b\",\n",
    "    r\"\\bSESSION_ID\\b\", r\"\\bWAITFOR\\s+TIME\\b\", r\"\\bEXEC\\s+sp_executesql\\b\", r\"\\bEXEC\\s+sp_sqlexec\\b\",\n",
    "    r\"\\bSYSOBJECTS\\b\", r\"\\bSYSCOLUMNS\\b\", r\"\\bPG_SLEEP\\b\", r\"\\bEXTRACTVALUE\\b\", r\"\\bUPDATEXML\\b\",\n",
    "    r\"\\bLTRIM\\b\", r\"\\bRTRIM\\b\", r\"\\bUPPER\\b\", r\"\\bLOWER\\b\", r\"\\bSYSADMIN\\b\", r\"\\bEXEC\\s+MASTER\\.DBO\\.XP_CMDSHELL\\b\",\n",
    "    r\"\\bINFORMATION_SCHEMA\\.TABLES\\b\", r\"\\bINFORMATION_SCHEMA\\.COLUMNS\\b\",\n",
    "    r\"--\", r\";\", r\"'\", r\"\\\"\", r\"/\\*\", r\"\\*/\", r\"\\(\", r\"\\)\", r\"\\{\", r\"\\}\", r\"\\[\", r\"\\]\", r\"<\", r\">\",\n",
    "    r\"\\|\\|\", r\"\\|\", r\"\\^\", r\"\\\\\", r\"\\@\", r\"\\#\", r\"\\%\", r\"\\!\", r\"\\$\", r\"\\+\", r\"-\", r\"/\", r\"\\*\",\n",
    "    r\"\\bOR\\b\", r\"\\bAND\\b\", r\"\\bLIKE\\b\", r\"\\bSLEEP\\b\", r\"\\bREGEXP\\b\", r\"\\bRLIKE\\b\",\n",
    "    r\"ORDER\\s+BY\\s+1--\", r\"UNION\\s+SELECT\", r\"DROP\\s+TABLE\", r\"ALTER\\s+TABLE\", r\"INTO\\s+OUTFILE\",\n",
    "    r\"\\b\\d+\\s*(=|!=|<|>|<=|>=)\\s*\\d+\\b\",\n",
    "    r\"\\b\\d+\\s*[\\+\\-\\*/%]\\s*\\d+\\b\",\n",
    "    r\"(\\|\\|)\", r\"\\bCONCAT\\s*\\(\", r\"\\bCHAR\\s*\\(\", r\"\\bASCII\\s*\\(\", r\"\\bUNHEX\\s*\\(\",\n",
    "    r\"\\b0x[0-9A-Fa-f]+\\b\",\n",
    "    r\"\\b\\d+\\s*(&|\\||\\^)\\s*\\d+\\b\",\n",
    "    r\"--\", r\"#\", r\"/\\*\", r\"\\*/\",\n",
    "    r\"\\)\\s*AND\\s*\\(\",\n",
    "    r\"\\bAND\\b.*&.*\\b\",\n",
    "    r\"::\", r\"\\@\\@\", r\"\\bAS\\s+\\w+\",\n",
    "    r\"-\\d+'?\",\n",
    "    r\"^-?\\d+'?\",\n",
    "]\n",
    "\n",
    "sql_injection_regex = re.compile(\"|\".join(sql_injection_patterns), re.IGNORECASE)\n",
    "\n",
    "def count_sql_keywords(body: str) -> int:\n",
    "    if not body:\n",
    "        return 0\n",
    "\n",
    "    matches = sql_injection_regex.findall(body)\n",
    "    return len(matches)"
   ]
  },
  {
   "cell_type": "code",
   "execution_count": 12,
   "id": "f6d6b919-9c89-4ff9-8d6f-d3ddd074d52d",
   "metadata": {},
   "outputs": [],
   "source": [
    "df[\"sql_injection_keywords_url\"] = df[\"url\"].apply(count_sql_keywords)"
   ]
  },
  {
   "cell_type": "code",
   "execution_count": 13,
   "id": "b9df80bc-4632-4571-b645-cece8ab6187f",
   "metadata": {},
   "outputs": [],
   "source": [
    "df[\"sql_injection_keywords_body\"] = df[\"body\"].apply(count_sql_keywords)"
   ]
  },
  {
   "cell_type": "code",
   "execution_count": 14,
   "id": "d4eb0660-309f-46da-8ad6-ecf6681ef8ad",
   "metadata": {},
   "outputs": [],
   "source": [
    "df[\"sql_injection_keywords_header\"] = df[\"header\"].apply(count_sql_keywords)"
   ]
  },
  {
   "cell_type": "code",
   "execution_count": 15,
   "id": "b2bcbff5-d3e0-4bb9-95ff-752391c690f0",
   "metadata": {},
   "outputs": [],
   "source": [
    "df[\"header_entropy\"] = df[\"header\"].apply(calculate_entropy)"
   ]
  },
  {
   "cell_type": "code",
   "execution_count": 16,
   "id": "beae21dc-bff1-4cca-b35a-358900252f8d",
   "metadata": {},
   "outputs": [],
   "source": [
    "df[\"body_entropy\"] = df[\"body\"].apply(calculate_entropy)"
   ]
  },
  {
   "cell_type": "code",
   "execution_count": 17,
   "id": "39b0f5d8-18f6-421e-bedd-11a0e9dd5288",
   "metadata": {},
   "outputs": [],
   "source": [
    "df[\"number_of_special_chars\"] = df[\"header\"].apply(number_of_special_chars)"
   ]
  },
  {
   "cell_type": "code",
   "execution_count": 18,
   "id": "9c76b6a5-1fa8-4c45-8970-9b7a84699462",
   "metadata": {},
   "outputs": [],
   "source": [
    "df[\"count_query_params\"] = df[\"url\"].apply(count_query_params)"
   ]
  },
  {
   "cell_type": "code",
   "execution_count": 19,
   "id": "29c90691-5452-4dd8-a5cc-5e65ef76d950",
   "metadata": {},
   "outputs": [],
   "source": [
    "df[\"body_special_chars\"] = df[\"body\"].apply(number_of_special_chars)"
   ]
  },
  {
   "cell_type": "code",
   "execution_count": 20,
   "id": "5efb8086-f9d9-4fdc-985d-6a3e3e31ae68",
   "metadata": {},
   "outputs": [],
   "source": [
    "df[\"query_param_length\"] = df[\"url\"].apply(calculate_query_param_length)"
   ]
  },
  {
   "cell_type": "code",
   "execution_count": 21,
   "id": "8033295d-3d2a-4333-aed6-a485fc8c9ba9",
   "metadata": {},
   "outputs": [],
   "source": [
    "df[\"path_depth\"] = df[\"url\"].apply(calculate_path_depth)"
   ]
  },
  {
   "cell_type": "code",
   "execution_count": 22,
   "id": "e887649c-9de5-47e2-a7bb-013abd013cef",
   "metadata": {},
   "outputs": [],
   "source": [
    "df[\"method\"] = pd.Categorical(df[\"method\"]).codes"
   ]
  },
  {
   "cell_type": "code",
   "execution_count": 23,
   "id": "f6396b02-4d87-4c3f-bdaf-e02b31897369",
   "metadata": {},
   "outputs": [],
   "source": [
    "df[\"sql_injection\"] = True"
   ]
  },
  {
   "cell_type": "code",
   "execution_count": 24,
   "id": "715a8220-db50-4d2d-8046-40cbc588640b",
   "metadata": {},
   "outputs": [
    {
     "data": {
      "text/html": [
       "<div>\n",
       "<style scoped>\n",
       "    .dataframe tbody tr th:only-of-type {\n",
       "        vertical-align: middle;\n",
       "    }\n",
       "\n",
       "    .dataframe tbody tr th {\n",
       "        vertical-align: top;\n",
       "    }\n",
       "\n",
       "    .dataframe thead th {\n",
       "        text-align: right;\n",
       "    }\n",
       "</style>\n",
       "<table border=\"1\" class=\"dataframe\">\n",
       "  <thead>\n",
       "    <tr style=\"text-align: right;\">\n",
       "      <th></th>\n",
       "      <th>method</th>\n",
       "      <th>body_entropy</th>\n",
       "      <th>header_entropy</th>\n",
       "      <th>number_of_special_chars</th>\n",
       "      <th>body_special_chars</th>\n",
       "      <th>query_param_length</th>\n",
       "      <th>path_depth</th>\n",
       "      <th>sql_injection_keywords_url</th>\n",
       "      <th>sql_injection_keywords_body</th>\n",
       "      <th>sql_injection_keywords_header</th>\n",
       "      <th>sql_injection</th>\n",
       "    </tr>\n",
       "  </thead>\n",
       "  <tbody>\n",
       "    <tr>\n",
       "      <th>0</th>\n",
       "      <td>0</td>\n",
       "      <td>3.703727</td>\n",
       "      <td>5.260223</td>\n",
       "      <td>154</td>\n",
       "      <td>13</td>\n",
       "      <td>0</td>\n",
       "      <td>1</td>\n",
       "      <td>3</td>\n",
       "      <td>8</td>\n",
       "      <td>98</td>\n",
       "      <td>True</td>\n",
       "    </tr>\n",
       "    <tr>\n",
       "      <th>1</th>\n",
       "      <td>0</td>\n",
       "      <td>4.263342</td>\n",
       "      <td>5.266637</td>\n",
       "      <td>154</td>\n",
       "      <td>8</td>\n",
       "      <td>0</td>\n",
       "      <td>1</td>\n",
       "      <td>3</td>\n",
       "      <td>5</td>\n",
       "      <td>98</td>\n",
       "      <td>True</td>\n",
       "    </tr>\n",
       "    <tr>\n",
       "      <th>2</th>\n",
       "      <td>0</td>\n",
       "      <td>4.336093</td>\n",
       "      <td>5.261628</td>\n",
       "      <td>154</td>\n",
       "      <td>15</td>\n",
       "      <td>0</td>\n",
       "      <td>1</td>\n",
       "      <td>3</td>\n",
       "      <td>12</td>\n",
       "      <td>98</td>\n",
       "      <td>True</td>\n",
       "    </tr>\n",
       "    <tr>\n",
       "      <th>3</th>\n",
       "      <td>0</td>\n",
       "      <td>4.283197</td>\n",
       "      <td>5.261628</td>\n",
       "      <td>154</td>\n",
       "      <td>15</td>\n",
       "      <td>0</td>\n",
       "      <td>1</td>\n",
       "      <td>3</td>\n",
       "      <td>12</td>\n",
       "      <td>98</td>\n",
       "      <td>True</td>\n",
       "    </tr>\n",
       "    <tr>\n",
       "      <th>4</th>\n",
       "      <td>0</td>\n",
       "      <td>4.320702</td>\n",
       "      <td>5.262706</td>\n",
       "      <td>154</td>\n",
       "      <td>13</td>\n",
       "      <td>0</td>\n",
       "      <td>1</td>\n",
       "      <td>3</td>\n",
       "      <td>10</td>\n",
       "      <td>98</td>\n",
       "      <td>True</td>\n",
       "    </tr>\n",
       "    <tr>\n",
       "      <th>...</th>\n",
       "      <td>...</td>\n",
       "      <td>...</td>\n",
       "      <td>...</td>\n",
       "      <td>...</td>\n",
       "      <td>...</td>\n",
       "      <td>...</td>\n",
       "      <td>...</td>\n",
       "      <td>...</td>\n",
       "      <td>...</td>\n",
       "      <td>...</td>\n",
       "      <td>...</td>\n",
       "    </tr>\n",
       "    <tr>\n",
       "      <th>434</th>\n",
       "      <td>0</td>\n",
       "      <td>4.485386</td>\n",
       "      <td>5.312636</td>\n",
       "      <td>162</td>\n",
       "      <td>35</td>\n",
       "      <td>0</td>\n",
       "      <td>1</td>\n",
       "      <td>3</td>\n",
       "      <td>32</td>\n",
       "      <td>103</td>\n",
       "      <td>True</td>\n",
       "    </tr>\n",
       "    <tr>\n",
       "      <th>435</th>\n",
       "      <td>0</td>\n",
       "      <td>4.572221</td>\n",
       "      <td>5.310132</td>\n",
       "      <td>162</td>\n",
       "      <td>36</td>\n",
       "      <td>0</td>\n",
       "      <td>1</td>\n",
       "      <td>3</td>\n",
       "      <td>32</td>\n",
       "      <td>103</td>\n",
       "      <td>True</td>\n",
       "    </tr>\n",
       "    <tr>\n",
       "      <th>436</th>\n",
       "      <td>0</td>\n",
       "      <td>4.562335</td>\n",
       "      <td>5.310132</td>\n",
       "      <td>162</td>\n",
       "      <td>36</td>\n",
       "      <td>0</td>\n",
       "      <td>1</td>\n",
       "      <td>3</td>\n",
       "      <td>32</td>\n",
       "      <td>103</td>\n",
       "      <td>True</td>\n",
       "    </tr>\n",
       "    <tr>\n",
       "      <th>437</th>\n",
       "      <td>0</td>\n",
       "      <td>4.482815</td>\n",
       "      <td>5.310132</td>\n",
       "      <td>162</td>\n",
       "      <td>36</td>\n",
       "      <td>0</td>\n",
       "      <td>1</td>\n",
       "      <td>3</td>\n",
       "      <td>32</td>\n",
       "      <td>103</td>\n",
       "      <td>True</td>\n",
       "    </tr>\n",
       "    <tr>\n",
       "      <th>438</th>\n",
       "      <td>0</td>\n",
       "      <td>4.482815</td>\n",
       "      <td>5.310132</td>\n",
       "      <td>162</td>\n",
       "      <td>36</td>\n",
       "      <td>0</td>\n",
       "      <td>1</td>\n",
       "      <td>3</td>\n",
       "      <td>32</td>\n",
       "      <td>103</td>\n",
       "      <td>True</td>\n",
       "    </tr>\n",
       "  </tbody>\n",
       "</table>\n",
       "<p>439 rows × 11 columns</p>\n",
       "</div>"
      ],
      "text/plain": [
       "     method  body_entropy  header_entropy  number_of_special_chars  \\\n",
       "0         0      3.703727        5.260223                      154   \n",
       "1         0      4.263342        5.266637                      154   \n",
       "2         0      4.336093        5.261628                      154   \n",
       "3         0      4.283197        5.261628                      154   \n",
       "4         0      4.320702        5.262706                      154   \n",
       "..      ...           ...             ...                      ...   \n",
       "434       0      4.485386        5.312636                      162   \n",
       "435       0      4.572221        5.310132                      162   \n",
       "436       0      4.562335        5.310132                      162   \n",
       "437       0      4.482815        5.310132                      162   \n",
       "438       0      4.482815        5.310132                      162   \n",
       "\n",
       "     body_special_chars  query_param_length  path_depth  \\\n",
       "0                    13                   0           1   \n",
       "1                     8                   0           1   \n",
       "2                    15                   0           1   \n",
       "3                    15                   0           1   \n",
       "4                    13                   0           1   \n",
       "..                  ...                 ...         ...   \n",
       "434                  35                   0           1   \n",
       "435                  36                   0           1   \n",
       "436                  36                   0           1   \n",
       "437                  36                   0           1   \n",
       "438                  36                   0           1   \n",
       "\n",
       "     sql_injection_keywords_url  sql_injection_keywords_body  \\\n",
       "0                             3                            8   \n",
       "1                             3                            5   \n",
       "2                             3                           12   \n",
       "3                             3                           12   \n",
       "4                             3                           10   \n",
       "..                          ...                          ...   \n",
       "434                           3                           32   \n",
       "435                           3                           32   \n",
       "436                           3                           32   \n",
       "437                           3                           32   \n",
       "438                           3                           32   \n",
       "\n",
       "     sql_injection_keywords_header  sql_injection  \n",
       "0                               98           True  \n",
       "1                               98           True  \n",
       "2                               98           True  \n",
       "3                               98           True  \n",
       "4                               98           True  \n",
       "..                             ...            ...  \n",
       "434                            103           True  \n",
       "435                            103           True  \n",
       "436                            103           True  \n",
       "437                            103           True  \n",
       "438                            103           True  \n",
       "\n",
       "[439 rows x 11 columns]"
      ]
     },
     "execution_count": 24,
     "metadata": {},
     "output_type": "execute_result"
    }
   ],
   "source": [
    "df[[\"method\",\"body_entropy\",\"header_entropy\",\"number_of_special_chars\",\"body_special_chars\",\"query_param_length\",\"path_depth\",\"sql_injection_keywords_url\",\"sql_injection_keywords_body\",\"sql_injection_keywords_header\",\"sql_injection\"]]"
   ]
  },
  {
   "cell_type": "code",
   "execution_count": 25,
   "id": "8da59ab0-6a49-4bb1-a644-238702f001e8",
   "metadata": {},
   "outputs": [],
   "source": [
    "df.to_csv(\"unclean.csv\",index=False)"
   ]
  },
  {
   "cell_type": "code",
   "execution_count": 30,
   "id": "6071de75-304c-4e72-b2a3-d9df78233328",
   "metadata": {},
   "outputs": [],
   "source": [
    "df_clean = pd.read_csv('clean.csv')\n",
    "df_unclean = pd.read_csv('unclean.csv')\n",
    "df_combined = pd.concat([df_clean, df_unclean], ignore_index=False)\n",
    "df_combined = df_combined.sample(frac=1, random_state=42).reset_index(drop=True)\n",
    "df_combined['sql_injection'] = df_combined['sql_injection'].astype(int)"
   ]
  },
  {
   "cell_type": "code",
   "execution_count": 35,
   "id": "277217fa-320a-4102-b922-6323cc2c0765",
   "metadata": {},
   "outputs": [],
   "source": [
    "df_combined_selected = df_combined[[\"method\",\"body_entropy\",\"header_entropy\",\"number_of_special_chars\",\"body_special_chars\",\"query_param_length\",\"path_depth\",\"sql_injection_keywords_url\",\"sql_injection_keywords_body\",\"sql_injection_keywords_header\",\"sql_injection\"]]"
   ]
  },
  {
   "cell_type": "code",
   "execution_count": 36,
   "id": "73b74f8e-2f79-481c-8ea0-135c0a69eb88",
   "metadata": {},
   "outputs": [
    {
     "name": "stdout",
     "output_type": "stream",
     "text": [
      "Training set size: (716, 10)\n",
      "Testing set size: (180, 10)\n"
     ]
    }
   ],
   "source": [
    "from sklearn.model_selection import train_test_split\n",
    "\n",
    "X = df_combined_selected.drop(columns=['sql_injection'])\n",
    "y = df_combined_selected['sql_injection']\n",
    "\n",
    "X_train, X_test, y_train, y_test = train_test_split(X, y, test_size=0.2, random_state=42)\n",
    "\n",
    "print(\"Training set size:\", X_train.shape)\n",
    "print(\"Testing set size:\", X_test.shape)"
   ]
  },
  {
   "cell_type": "markdown",
   "id": "1b9d85dd-c57e-4f49-971b-2bce992324a9",
   "metadata": {},
   "source": [
    "## Random Forest Classifier"
   ]
  },
  {
   "cell_type": "code",
   "execution_count": 38,
   "id": "01542e33-5f5a-4c98-882f-f5c4dd79ab30",
   "metadata": {},
   "outputs": [
    {
     "name": "stdout",
     "output_type": "stream",
     "text": [
      "Accuracy: 0.9944444444444445\n",
      "\n",
      "Classification Report:\n",
      "               precision    recall  f1-score   support\n",
      "\n",
      "           0       1.00      0.99      0.99        91\n",
      "           1       0.99      1.00      0.99        89\n",
      "\n",
      "    accuracy                           0.99       180\n",
      "   macro avg       0.99      0.99      0.99       180\n",
      "weighted avg       0.99      0.99      0.99       180\n",
      "\n",
      "\n",
      "Confusion Matrix:\n",
      " [[90  1]\n",
      " [ 0 89]]\n"
     ]
    }
   ],
   "source": [
    "from sklearn.metrics import accuracy_score, classification_report, confusion_matrix\n",
    "\n",
    "randomforest_classifier = RandomForestClassifier()\n",
    "randomforest_classifier.fit(X_train, y_train)\n",
    "\n",
    "y_pred = randomforest_classifier.predict(X_test)\n",
    "\n",
    "print(\"Accuracy:\", accuracy_score(y_test, y_pred))\n",
    "print(\"\\nClassification Report:\\n\", classification_report(y_test, y_pred))\n",
    "print(\"\\nConfusion Matrix:\\n\", confusion_matrix(y_test, y_pred))"
   ]
  },
  {
   "cell_type": "markdown",
   "id": "c442bd63-5da2-4d86-9d29-7a26484863d1",
   "metadata": {},
   "source": [
    "## Logistic Regression"
   ]
  },
  {
   "cell_type": "code",
   "execution_count": 44,
   "id": "e1d2bfdf-6781-432a-9d75-aa0fffa39250",
   "metadata": {},
   "outputs": [
    {
     "name": "stdout",
     "output_type": "stream",
     "text": [
      "Accuracy: 0.9944444444444445\n",
      "\n",
      "Classification Report:\n",
      "               precision    recall  f1-score   support\n",
      "\n",
      "           0       1.00      0.99      0.99        91\n",
      "           1       0.99      1.00      0.99        89\n",
      "\n",
      "    accuracy                           0.99       180\n",
      "   macro avg       0.99      0.99      0.99       180\n",
      "weighted avg       0.99      0.99      0.99       180\n",
      "\n",
      "\n",
      "Confusion Matrix:\n",
      " [[90  1]\n",
      " [ 0 89]]\n"
     ]
    },
    {
     "name": "stderr",
     "output_type": "stream",
     "text": [
      "/home/boggyman/miniconda3/lib/python3.12/site-packages/sklearn/linear_model/_logistic.py:465: ConvergenceWarning: lbfgs failed to converge (status=1):\n",
      "STOP: TOTAL NO. OF ITERATIONS REACHED LIMIT.\n",
      "\n",
      "Increase the number of iterations (max_iter) or scale the data as shown in:\n",
      "    https://scikit-learn.org/stable/modules/preprocessing.html\n",
      "Please also refer to the documentation for alternative solver options:\n",
      "    https://scikit-learn.org/stable/modules/linear_model.html#logistic-regression\n",
      "  n_iter_i = _check_optimize_result(\n"
     ]
    }
   ],
   "source": [
    "from sklearn.linear_model import LogisticRegression\n",
    "from sklearn.metrics import accuracy_score, classification_report, confusion_matrix\n",
    "\n",
    "model = LogisticRegression(max_iter=100)\n",
    "model.fit(X_train, y_train)\n",
    "\n",
    "y_pred = model.predict(X_test)\n",
    "\n",
    "\n",
    "print(\"Accuracy:\", accuracy_score(y_test, y_pred))\n",
    "print(\"\\nClassification Report:\\n\", classification_report(y_test, y_pred))\n",
    "print(\"\\nConfusion Matrix:\\n\", confusion_matrix(y_test, y_pred))"
   ]
  },
  {
   "cell_type": "code",
   "execution_count": 42,
   "id": "77d35c4b-d3f2-42b9-9fb5-6a90fc332afa",
   "metadata": {},
   "outputs": [],
   "source": [
    "request_test = {\n",
    "    \"request\": {\n",
    "        \"url\": \"http://testphp.vulnweb.com/users.php?q='\",\n",
    "        \"method\": \"GET\",\n",
    "        \"headers\": {\n",
    "            \"Content-Length\": \"77\",\n",
    "            \"Host\": \"testphp.vulnweb.com\",\n",
    "            \"Cache-Control\": \"max-age=0\",\n",
    "            \"Origin\": \"http://testphp.vulnweb.com\",\n",
    "            \"Content-Type\": \"application/x-www-form-urlencoded\",\n",
    "            \"Upgrade-Insecure-Requests\": \"1\",\n",
    "            \"User-Agent\": \"Mozilla/5.0 (X11; Linux x86_64) AppleWebKit/537.36 (KHTML, like Gecko) Chrome/134.0.0.0 Safari/537.36\",\n",
    "            \"Accept\": \"text/html,application/xhtml+xml,application/xml;q=0.9,image/avif,image/webp,image/apng,*/*;q=0.8\",\n",
    "            \"Sec-GPC\": \"1\",\n",
    "            \"Accept-Language\": \"en-US,en;q=0.5\",\n",
    "            \"Referer\": \"http://testphp.vulnweb.com/login.php\",\n",
    "            \"Accept-Encoding\": \"gzip, deflate, br\",\n",
    "            \"Connection\": \"close\"\n",
    "        },\n",
    "        \"body\": \"\"\n",
    "    }\n",
    "}"
   ]
  },
  {
   "cell_type": "code",
   "execution_count": 51,
   "id": "91149759-3a43-46d6-a545-c119a288dc7c",
   "metadata": {},
   "outputs": [
    {
     "ename": "AttributeError",
     "evalue": "'dict' object has no attribute 'split'",
     "output_type": "error",
     "traceback": [
      "\u001b[0;31m---------------------------------------------------------------------------\u001b[0m",
      "\u001b[0;31mAttributeError\u001b[0m                            Traceback (most recent call last)",
      "Cell \u001b[0;32mIn[51], line 3\u001b[0m\n\u001b[1;32m      1\u001b[0m url \u001b[38;5;241m=\u001b[39m request_test[\u001b[38;5;124m\"\u001b[39m\u001b[38;5;124mrequest\u001b[39m\u001b[38;5;124m\"\u001b[39m][\u001b[38;5;124m\"\u001b[39m\u001b[38;5;124murl\u001b[39m\u001b[38;5;124m\"\u001b[39m]\n\u001b[1;32m      2\u001b[0m method \u001b[38;5;241m=\u001b[39m request_test[\u001b[38;5;124m\"\u001b[39m\u001b[38;5;124mrequest\u001b[39m\u001b[38;5;124m\"\u001b[39m][\u001b[38;5;124m\"\u001b[39m\u001b[38;5;124mmethod\u001b[39m\u001b[38;5;124m\"\u001b[39m]\n\u001b[0;32m----> 3\u001b[0m headers \u001b[38;5;241m=\u001b[39m unquote(request_test[\u001b[38;5;124m\"\u001b[39m\u001b[38;5;124mrequest\u001b[39m\u001b[38;5;124m\"\u001b[39m][\u001b[38;5;124m\"\u001b[39m\u001b[38;5;124mheaders\u001b[39m\u001b[38;5;124m\"\u001b[39m])\n\u001b[1;32m      4\u001b[0m body \u001b[38;5;241m=\u001b[39m request_test[\u001b[38;5;124m\"\u001b[39m\u001b[38;5;124mrequest\u001b[39m\u001b[38;5;124m\"\u001b[39m][\u001b[38;5;124m\"\u001b[39m\u001b[38;5;124mbody\u001b[39m\u001b[38;5;124m\"\u001b[39m]\n\u001b[1;32m      6\u001b[0m features \u001b[38;5;241m=\u001b[39m {\n\u001b[1;32m      7\u001b[0m     \u001b[38;5;124m\"\u001b[39m\u001b[38;5;124mmethod\u001b[39m\u001b[38;5;124m\"\u001b[39m: \u001b[38;5;241m0\u001b[39m \u001b[38;5;28;01mif\u001b[39;00m method \u001b[38;5;241m==\u001b[39m \u001b[38;5;124m\"\u001b[39m\u001b[38;5;124mGET\u001b[39m\u001b[38;5;124m\"\u001b[39m \u001b[38;5;28;01melse\u001b[39;00m \u001b[38;5;241m1\u001b[39m,\n\u001b[1;32m      8\u001b[0m     \u001b[38;5;124m\"\u001b[39m\u001b[38;5;124mbody_entropy\u001b[39m\u001b[38;5;124m\"\u001b[39m: calculate_entropy(body),\n\u001b[0;32m   (...)\u001b[0m\n\u001b[1;32m     16\u001b[0m     \u001b[38;5;124m\"\u001b[39m\u001b[38;5;124msql_injection_keywords_header\u001b[39m\u001b[38;5;124m\"\u001b[39m: count_sql_keywords(headers)\n\u001b[1;32m     17\u001b[0m }\n",
      "File \u001b[0;32m~/miniconda3/lib/python3.12/urllib/parse.py:690\u001b[0m, in \u001b[0;36munquote\u001b[0;34m(string, encoding, errors)\u001b[0m\n\u001b[1;32m    687\u001b[0m     \u001b[38;5;28;01mreturn\u001b[39;00m _unquote_impl(string)\u001b[38;5;241m.\u001b[39mdecode(encoding, errors)\n\u001b[1;32m    688\u001b[0m \u001b[38;5;28;01mif\u001b[39;00m \u001b[38;5;124m'\u001b[39m\u001b[38;5;124m%\u001b[39m\u001b[38;5;124m'\u001b[39m \u001b[38;5;129;01mnot\u001b[39;00m \u001b[38;5;129;01min\u001b[39;00m string:\n\u001b[1;32m    689\u001b[0m     \u001b[38;5;66;03m# Is it a string-like object?\u001b[39;00m\n\u001b[0;32m--> 690\u001b[0m     string\u001b[38;5;241m.\u001b[39msplit\n\u001b[1;32m    691\u001b[0m     \u001b[38;5;28;01mreturn\u001b[39;00m string\n\u001b[1;32m    692\u001b[0m \u001b[38;5;28;01mif\u001b[39;00m encoding \u001b[38;5;129;01mis\u001b[39;00m \u001b[38;5;28;01mNone\u001b[39;00m:\n",
      "\u001b[0;31mAttributeError\u001b[0m: 'dict' object has no attribute 'split'"
     ]
    }
   ],
   "source": [
    "url = request_test[\"request\"][\"url\"]\n",
    "method = request_test[\"request\"][\"method\"]\n",
    "headers = unquote(request_test[\"request\"][\"headers\"])\n",
    "body = unquote(request_test[\"request\"][\"body\"])\n",
    "\n",
    "features = {\n",
    "    \"method\": 0 if method == \"GET\" else 1,\n",
    "    \"body_entropy\": calculate_entropy(body),\n",
    "    \"header_entropy\": calculate_entropy(headers),\n",
    "    \"number_of_special_chars\": number_of_special_chars(headers),\n",
    "    \"body_special_chars\": number_of_special_chars(body),\n",
    "    \"query_param_length\": calculate_query_param_length(url),\n",
    "    \"path_depth\": calculate_path_depth(url),\n",
    "    \"sql_injection_keywords_url\": count_sql_keywords(url),\n",
    "    \"sql_injection_keywords_body\": count_sql_keywords(body),\n",
    "    \"sql_injection_keywords_header\": count_sql_keywords(headers)\n",
    "}\n",
    "\n",
    "features_df = pd.DataFrame([features])\n",
    "\n",
    "# Optional: print the features DataFrame to check the result\n",
    "print(features_df.head())"
   ]
  },
  {
   "cell_type": "code",
   "execution_count": null,
   "id": "58d89f0a-b814-48d1-86fa-29966546880e",
   "metadata": {},
   "outputs": [],
   "source": []
  }
 ],
 "metadata": {
  "kernelspec": {
   "display_name": "Python 3 (ipykernel)",
   "language": "python",
   "name": "python3"
  },
  "language_info": {
   "codemirror_mode": {
    "name": "ipython",
    "version": 3
   },
   "file_extension": ".py",
   "mimetype": "text/x-python",
   "name": "python",
   "nbconvert_exporter": "python",
   "pygments_lexer": "ipython3",
   "version": "3.12.8"
  }
 },
 "nbformat": 4,
 "nbformat_minor": 5
}
