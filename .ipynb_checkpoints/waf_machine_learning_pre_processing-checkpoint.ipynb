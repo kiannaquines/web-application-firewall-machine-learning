{
 "cells": [
  {
   "cell_type": "code",
   "execution_count": 2,
   "id": "90fb566f-1249-4dc3-8964-f7417cdd3ff3",
   "metadata": {},
   "outputs": [],
   "source": [
    "import pandas as pd\n",
    "import numpy as np\n",
    "import seaborn as sns\n",
    "import json\n",
    "import re"
   ]
  },
  {
   "cell_type": "code",
   "execution_count": 4,
   "id": "6357c7bf-2bf6-4165-be71-0a8ffdf5b699",
   "metadata": {},
   "outputs": [],
   "source": [
    "with open('collected_data_sql_injection.json', 'r') as file:\n",
    "    request = file.read()\n",
    "    request = json.dumps(request)"
   ]
  },
  {
   "cell_type": "code",
   "execution_count": 7,
   "id": "12a1a3e5-ad98-4149-9f29-6da4acef64c3",
   "metadata": {},
   "outputs": [],
   "source": [
    "def calculate_entropy():\n",
    "    pass"
   ]
  },
  {
   "cell_type": "code",
   "execution_count": 8,
   "id": "bc00549f-ac46-4e48-8f94-f7f66dbb32d9",
   "metadata": {},
   "outputs": [],
   "source": [
    "def count_sql_keywords():\n",
    "    pass"
   ]
  },
  {
   "cell_type": "code",
   "execution_count": 9,
   "id": "6907a7b6-3b72-400d-985d-15a9a096bc15",
   "metadata": {},
   "outputs": [],
   "source": [
    "def calculate_packet_length():\n",
    "    pass"
   ]
  },
  {
   "cell_type": "code",
   "execution_count": 10,
   "id": "9513d082-e026-4a7a-8062-30f5b0738832",
   "metadata": {},
   "outputs": [],
   "source": [
    "def request_method():\n",
    "    pass"
   ]
  },
  {
   "cell_type": "code",
   "execution_count": 11,
   "id": "ae61353e-fd38-464e-8daf-b51d9fe8277e",
   "metadata": {},
   "outputs": [],
   "source": [
    "def number_of_special_chars(request: Union[Dict: str]) -> int:\n",
    "    pass"
   ]
  },
  {
   "cell_type": "code",
   "execution_count": 12,
   "id": "0c0aaae0-378b-4994-8250-b12ca34cbf84",
   "metadata": {},
   "outputs": [],
   "source": [
    "def url_length(request: Union[Dict: str]) -> int:\n",
    "    pass"
   ]
  },
  {
   "cell_type": "code",
   "execution_count": null,
   "id": "484b85a0-fde3-4f58-8a12-ee923f76abd6",
   "metadata": {},
   "outputs": [],
   "source": [
    "def number_of_query_params(request: Union[Dict: str]) -> int:\n",
    "    pass"
   ]
  }
 ],
 "metadata": {
  "kernelspec": {
   "display_name": "Python 3 (ipykernel)",
   "language": "python",
   "name": "python3"
  },
  "language_info": {
   "codemirror_mode": {
    "name": "ipython",
    "version": 3
   },
   "file_extension": ".py",
   "mimetype": "text/x-python",
   "name": "python",
   "nbconvert_exporter": "python",
   "pygments_lexer": "ipython3",
   "version": "3.12.8"
  }
 },
 "nbformat": 4,
 "nbformat_minor": 5
}
