{
 "cells": [
  {
   "cell_type": "code",
   "execution_count": 8,
   "id": "62d29b69-0a01-4684-aa63-fa2e5d4f9b07",
   "metadata": {},
   "outputs": [],
   "source": [
    "import joblib\n",
    "from sklearn.feature_extraction.text import TfidfVectorizer"
   ]
  },
  {
   "cell_type": "code",
   "execution_count": 19,
   "id": "177c5877-9478-459f-968d-9d3c6c0b7bb7",
   "metadata": {},
   "outputs": [],
   "source": [
    "class WafDetector:\n",
    "    def __init__(self):\n",
    "        self.predictor = joblib.load('./request_predictor.joblib')\n",
    "\n",
    "    def parse_payload(self, payload):\n",
    "        \"\"\"\n",
    "        Parse and format the payload for prediction.\n",
    "        The payload should be converted into a list of strings.\n",
    "        \"\"\"\n",
    "        if isinstance(payload, str):\n",
    "            return [payload]\n",
    "        elif isinstance(payload, list):\n",
    "            return payload\n",
    "        else:\n",
    "            raise ValueError(\"Payload must be a string or a list of strings.\")\n",
    "\n",
    "    def predict(self, payload):\n",
    "        \"\"\"\n",
    "        Predict the type of the payload.\n",
    "        \"\"\"\n",
    "        parsed_payload = self.parse_payload(payload)\n",
    "        print(parsed_payload)\n",
    "        return self.predictor.predict(parsed_payload)"
   ]
  },
  {
   "cell_type": "code",
   "execution_count": 20,
   "id": "7f7f5b2d-1c0e-4948-951c-5923b7aca62d",
   "metadata": {},
   "outputs": [],
   "source": [
    "waf = WafDetector()"
   ]
  },
  {
   "cell_type": "code",
   "execution_count": 26,
   "id": "e2461ea7-5879-420c-94c3-0b643fb45185",
   "metadata": {},
   "outputs": [
    {
     "name": "stdout",
     "output_type": "stream",
     "text": [
      "[\"username=kiannaquines&password=password@0000&is_admin=true&submit=true' OR '1' = '1 --\"]\n"
     ]
    }
   ],
   "source": [
    "result = waf.predict(\"\"\"username=kiannaquines&password=password@0000&is_admin=true&submit=true' OR '1' = '1 --\"\"\")"
   ]
  },
  {
   "cell_type": "code",
   "execution_count": 27,
   "id": "4556235b-9452-47b3-97db-220786cd9767",
   "metadata": {},
   "outputs": [
    {
     "name": "stdout",
     "output_type": "stream",
     "text": [
      "Prediction: ['sqli']\n"
     ]
    }
   ],
   "source": [
    "print(\"Prediction:\", result)"
   ]
  },
  {
   "cell_type": "code",
   "execution_count": null,
   "id": "c6514d27-7bfb-473a-8bd1-a17958c12acc",
   "metadata": {},
   "outputs": [],
   "source": []
  }
 ],
 "metadata": {
  "kernelspec": {
   "display_name": "Python 3 (ipykernel)",
   "language": "python",
   "name": "python3"
  },
  "language_info": {
   "codemirror_mode": {
    "name": "ipython",
    "version": 3
   },
   "file_extension": ".py",
   "mimetype": "text/x-python",
   "name": "python",
   "nbconvert_exporter": "python",
   "pygments_lexer": "ipython3",
   "version": "3.12.8"
  }
 },
 "nbformat": 4,
 "nbformat_minor": 5
}
